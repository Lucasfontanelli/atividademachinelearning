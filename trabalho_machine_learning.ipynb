{
  "cells": [
    {
      "cell_type": "markdown",
      "metadata": {
        "id": "view-in-github",
        "colab_type": "text"
      },
      "source": [
        "<a href=\"https://colab.research.google.com/github/Lucasfontanelli/atividademachinelearning/blob/main/trabalho_machine_learning.ipynb\" target=\"_parent\"><img src=\"https://colab.research.google.com/assets/colab-badge.svg\" alt=\"Open In Colab\"/></a>"
      ]
    },
    {
      "cell_type": "code",
      "execution_count": null,
      "metadata": {
        "id": "zwFnJsE6vjf8"
      },
      "outputs": [],
      "source": [
        "from sklearn.model_selection import train_test_split\n",
        "from sklearn.tree import DecisionTreeClassifier\n",
        "from sklearn.metrics import accuracy_score\n",
        "from sklearn.metrics import confusion_matrix"
      ]
    },
    {
      "cell_type": "code",
      "source": [
        "import pandas as pd"
      ],
      "metadata": {
        "id": "xinbYyutaYu7"
      },
      "execution_count": null,
      "outputs": []
    },
    {
      "cell_type": "code",
      "source": [
        "df = pd.read_csv('/content/creditcard - menor balanceado.csv')\n",
        "df.head()"
      ],
      "metadata": {
        "id": "LvuGKvJ6afjT",
        "outputId": "72eb1568-5c57-4936-98f8-d4e1e36c4338",
        "colab": {
          "base_uri": "https://localhost:8080/",
          "height": 256
        }
      },
      "execution_count": null,
      "outputs": [
        {
          "output_type": "execute_result",
          "data": {
            "text/plain": [
              "       Time        V1        V2        V3        V4        V5        V6  \\\n",
              "0   82450.0  1.314539  0.590643 -0.666593  0.716564  0.301978 -1.125467   \n",
              "1   50554.0 -0.798672  1.185093  0.904547  0.694584  0.219041 -0.319295   \n",
              "2   55125.0 -0.391128 -0.245540  1.122074 -1.308725 -0.639891  0.008678   \n",
              "3  116572.0 -0.060302  1.065093 -0.987421 -0.029567  0.176376 -1.348539   \n",
              "4   90434.0  1.848433  0.373364  0.269272  3.866438  0.088062  0.970447   \n",
              "\n",
              "         V7        V8        V9  ...       V21       V22       V23       V24  \\\n",
              "0  0.388881 -0.288390 -0.132137  ... -0.170307 -0.429655 -0.141341 -0.200195   \n",
              "1  0.495236  0.139269 -0.760214  ...  0.202287  0.578699 -0.092245  0.013723   \n",
              "2 -0.701304 -0.027315 -2.628854  ... -0.133485  0.117403 -0.191748 -0.488642   \n",
              "3  0.775644  0.134843 -0.149734  ...  0.355576  0.907570 -0.018454 -0.126269   \n",
              "4 -0.721945  0.235983  0.683491  ...  0.103563  0.620954  0.197077  0.692392   \n",
              "\n",
              "        V25       V26       V27       V28  Amount  Class  \n",
              "0  0.639491  0.399476 -0.034321  0.031692    0.76      0  \n",
              "1 -0.246466 -0.380057 -0.396030 -0.112901    4.18      0  \n",
              "2 -0.309774  0.008100  0.163716  0.239582   15.00      0  \n",
              "3 -0.339923 -0.150285 -0.023634  0.042330   57.00      0  \n",
              "4 -0.206530 -0.021328 -0.019823 -0.042682    0.00      0  \n",
              "\n",
              "[5 rows x 31 columns]"
            ],
            "text/html": [
              "\n",
              "  <div id=\"df-482be5fb-6423-4997-b204-904ea4c13fe9\" class=\"colab-df-container\">\n",
              "    <div>\n",
              "<style scoped>\n",
              "    .dataframe tbody tr th:only-of-type {\n",
              "        vertical-align: middle;\n",
              "    }\n",
              "\n",
              "    .dataframe tbody tr th {\n",
              "        vertical-align: top;\n",
              "    }\n",
              "\n",
              "    .dataframe thead th {\n",
              "        text-align: right;\n",
              "    }\n",
              "</style>\n",
              "<table border=\"1\" class=\"dataframe\">\n",
              "  <thead>\n",
              "    <tr style=\"text-align: right;\">\n",
              "      <th></th>\n",
              "      <th>Time</th>\n",
              "      <th>V1</th>\n",
              "      <th>V2</th>\n",
              "      <th>V3</th>\n",
              "      <th>V4</th>\n",
              "      <th>V5</th>\n",
              "      <th>V6</th>\n",
              "      <th>V7</th>\n",
              "      <th>V8</th>\n",
              "      <th>V9</th>\n",
              "      <th>...</th>\n",
              "      <th>V21</th>\n",
              "      <th>V22</th>\n",
              "      <th>V23</th>\n",
              "      <th>V24</th>\n",
              "      <th>V25</th>\n",
              "      <th>V26</th>\n",
              "      <th>V27</th>\n",
              "      <th>V28</th>\n",
              "      <th>Amount</th>\n",
              "      <th>Class</th>\n",
              "    </tr>\n",
              "  </thead>\n",
              "  <tbody>\n",
              "    <tr>\n",
              "      <th>0</th>\n",
              "      <td>82450.0</td>\n",
              "      <td>1.314539</td>\n",
              "      <td>0.590643</td>\n",
              "      <td>-0.666593</td>\n",
              "      <td>0.716564</td>\n",
              "      <td>0.301978</td>\n",
              "      <td>-1.125467</td>\n",
              "      <td>0.388881</td>\n",
              "      <td>-0.288390</td>\n",
              "      <td>-0.132137</td>\n",
              "      <td>...</td>\n",
              "      <td>-0.170307</td>\n",
              "      <td>-0.429655</td>\n",
              "      <td>-0.141341</td>\n",
              "      <td>-0.200195</td>\n",
              "      <td>0.639491</td>\n",
              "      <td>0.399476</td>\n",
              "      <td>-0.034321</td>\n",
              "      <td>0.031692</td>\n",
              "      <td>0.76</td>\n",
              "      <td>0</td>\n",
              "    </tr>\n",
              "    <tr>\n",
              "      <th>1</th>\n",
              "      <td>50554.0</td>\n",
              "      <td>-0.798672</td>\n",
              "      <td>1.185093</td>\n",
              "      <td>0.904547</td>\n",
              "      <td>0.694584</td>\n",
              "      <td>0.219041</td>\n",
              "      <td>-0.319295</td>\n",
              "      <td>0.495236</td>\n",
              "      <td>0.139269</td>\n",
              "      <td>-0.760214</td>\n",
              "      <td>...</td>\n",
              "      <td>0.202287</td>\n",
              "      <td>0.578699</td>\n",
              "      <td>-0.092245</td>\n",
              "      <td>0.013723</td>\n",
              "      <td>-0.246466</td>\n",
              "      <td>-0.380057</td>\n",
              "      <td>-0.396030</td>\n",
              "      <td>-0.112901</td>\n",
              "      <td>4.18</td>\n",
              "      <td>0</td>\n",
              "    </tr>\n",
              "    <tr>\n",
              "      <th>2</th>\n",
              "      <td>55125.0</td>\n",
              "      <td>-0.391128</td>\n",
              "      <td>-0.245540</td>\n",
              "      <td>1.122074</td>\n",
              "      <td>-1.308725</td>\n",
              "      <td>-0.639891</td>\n",
              "      <td>0.008678</td>\n",
              "      <td>-0.701304</td>\n",
              "      <td>-0.027315</td>\n",
              "      <td>-2.628854</td>\n",
              "      <td>...</td>\n",
              "      <td>-0.133485</td>\n",
              "      <td>0.117403</td>\n",
              "      <td>-0.191748</td>\n",
              "      <td>-0.488642</td>\n",
              "      <td>-0.309774</td>\n",
              "      <td>0.008100</td>\n",
              "      <td>0.163716</td>\n",
              "      <td>0.239582</td>\n",
              "      <td>15.00</td>\n",
              "      <td>0</td>\n",
              "    </tr>\n",
              "    <tr>\n",
              "      <th>3</th>\n",
              "      <td>116572.0</td>\n",
              "      <td>-0.060302</td>\n",
              "      <td>1.065093</td>\n",
              "      <td>-0.987421</td>\n",
              "      <td>-0.029567</td>\n",
              "      <td>0.176376</td>\n",
              "      <td>-1.348539</td>\n",
              "      <td>0.775644</td>\n",
              "      <td>0.134843</td>\n",
              "      <td>-0.149734</td>\n",
              "      <td>...</td>\n",
              "      <td>0.355576</td>\n",
              "      <td>0.907570</td>\n",
              "      <td>-0.018454</td>\n",
              "      <td>-0.126269</td>\n",
              "      <td>-0.339923</td>\n",
              "      <td>-0.150285</td>\n",
              "      <td>-0.023634</td>\n",
              "      <td>0.042330</td>\n",
              "      <td>57.00</td>\n",
              "      <td>0</td>\n",
              "    </tr>\n",
              "    <tr>\n",
              "      <th>4</th>\n",
              "      <td>90434.0</td>\n",
              "      <td>1.848433</td>\n",
              "      <td>0.373364</td>\n",
              "      <td>0.269272</td>\n",
              "      <td>3.866438</td>\n",
              "      <td>0.088062</td>\n",
              "      <td>0.970447</td>\n",
              "      <td>-0.721945</td>\n",
              "      <td>0.235983</td>\n",
              "      <td>0.683491</td>\n",
              "      <td>...</td>\n",
              "      <td>0.103563</td>\n",
              "      <td>0.620954</td>\n",
              "      <td>0.197077</td>\n",
              "      <td>0.692392</td>\n",
              "      <td>-0.206530</td>\n",
              "      <td>-0.021328</td>\n",
              "      <td>-0.019823</td>\n",
              "      <td>-0.042682</td>\n",
              "      <td>0.00</td>\n",
              "      <td>0</td>\n",
              "    </tr>\n",
              "  </tbody>\n",
              "</table>\n",
              "<p>5 rows × 31 columns</p>\n",
              "</div>\n",
              "    <div class=\"colab-df-buttons\">\n",
              "\n",
              "  <div class=\"colab-df-container\">\n",
              "    <button class=\"colab-df-convert\" onclick=\"convertToInteractive('df-482be5fb-6423-4997-b204-904ea4c13fe9')\"\n",
              "            title=\"Convert this dataframe to an interactive table.\"\n",
              "            style=\"display:none;\">\n",
              "\n",
              "  <svg xmlns=\"http://www.w3.org/2000/svg\" height=\"24px\" viewBox=\"0 -960 960 960\">\n",
              "    <path d=\"M120-120v-720h720v720H120Zm60-500h600v-160H180v160Zm220 220h160v-160H400v160Zm0 220h160v-160H400v160ZM180-400h160v-160H180v160Zm440 0h160v-160H620v160ZM180-180h160v-160H180v160Zm440 0h160v-160H620v160Z\"/>\n",
              "  </svg>\n",
              "    </button>\n",
              "\n",
              "  <style>\n",
              "    .colab-df-container {\n",
              "      display:flex;\n",
              "      gap: 12px;\n",
              "    }\n",
              "\n",
              "    .colab-df-convert {\n",
              "      background-color: #E8F0FE;\n",
              "      border: none;\n",
              "      border-radius: 50%;\n",
              "      cursor: pointer;\n",
              "      display: none;\n",
              "      fill: #1967D2;\n",
              "      height: 32px;\n",
              "      padding: 0 0 0 0;\n",
              "      width: 32px;\n",
              "    }\n",
              "\n",
              "    .colab-df-convert:hover {\n",
              "      background-color: #E2EBFA;\n",
              "      box-shadow: 0px 1px 2px rgba(60, 64, 67, 0.3), 0px 1px 3px 1px rgba(60, 64, 67, 0.15);\n",
              "      fill: #174EA6;\n",
              "    }\n",
              "\n",
              "    .colab-df-buttons div {\n",
              "      margin-bottom: 4px;\n",
              "    }\n",
              "\n",
              "    [theme=dark] .colab-df-convert {\n",
              "      background-color: #3B4455;\n",
              "      fill: #D2E3FC;\n",
              "    }\n",
              "\n",
              "    [theme=dark] .colab-df-convert:hover {\n",
              "      background-color: #434B5C;\n",
              "      box-shadow: 0px 1px 3px 1px rgba(0, 0, 0, 0.15);\n",
              "      filter: drop-shadow(0px 1px 2px rgba(0, 0, 0, 0.3));\n",
              "      fill: #FFFFFF;\n",
              "    }\n",
              "  </style>\n",
              "\n",
              "    <script>\n",
              "      const buttonEl =\n",
              "        document.querySelector('#df-482be5fb-6423-4997-b204-904ea4c13fe9 button.colab-df-convert');\n",
              "      buttonEl.style.display =\n",
              "        google.colab.kernel.accessAllowed ? 'block' : 'none';\n",
              "\n",
              "      async function convertToInteractive(key) {\n",
              "        const element = document.querySelector('#df-482be5fb-6423-4997-b204-904ea4c13fe9');\n",
              "        const dataTable =\n",
              "          await google.colab.kernel.invokeFunction('convertToInteractive',\n",
              "                                                    [key], {});\n",
              "        if (!dataTable) return;\n",
              "\n",
              "        const docLinkHtml = 'Like what you see? Visit the ' +\n",
              "          '<a target=\"_blank\" href=https://colab.research.google.com/notebooks/data_table.ipynb>data table notebook</a>'\n",
              "          + ' to learn more about interactive tables.';\n",
              "        element.innerHTML = '';\n",
              "        dataTable['output_type'] = 'display_data';\n",
              "        await google.colab.output.renderOutput(dataTable, element);\n",
              "        const docLink = document.createElement('div');\n",
              "        docLink.innerHTML = docLinkHtml;\n",
              "        element.appendChild(docLink);\n",
              "      }\n",
              "    </script>\n",
              "  </div>\n",
              "\n",
              "\n",
              "<div id=\"df-d0030044-f077-464c-97a0-5f844712dbfc\">\n",
              "  <button class=\"colab-df-quickchart\" onclick=\"quickchart('df-d0030044-f077-464c-97a0-5f844712dbfc')\"\n",
              "            title=\"Suggest charts\"\n",
              "            style=\"display:none;\">\n",
              "\n",
              "<svg xmlns=\"http://www.w3.org/2000/svg\" height=\"24px\"viewBox=\"0 0 24 24\"\n",
              "     width=\"24px\">\n",
              "    <g>\n",
              "        <path d=\"M19 3H5c-1.1 0-2 .9-2 2v14c0 1.1.9 2 2 2h14c1.1 0 2-.9 2-2V5c0-1.1-.9-2-2-2zM9 17H7v-7h2v7zm4 0h-2V7h2v10zm4 0h-2v-4h2v4z\"/>\n",
              "    </g>\n",
              "</svg>\n",
              "  </button>\n",
              "\n",
              "<style>\n",
              "  .colab-df-quickchart {\n",
              "      --bg-color: #E8F0FE;\n",
              "      --fill-color: #1967D2;\n",
              "      --hover-bg-color: #E2EBFA;\n",
              "      --hover-fill-color: #174EA6;\n",
              "      --disabled-fill-color: #AAA;\n",
              "      --disabled-bg-color: #DDD;\n",
              "  }\n",
              "\n",
              "  [theme=dark] .colab-df-quickchart {\n",
              "      --bg-color: #3B4455;\n",
              "      --fill-color: #D2E3FC;\n",
              "      --hover-bg-color: #434B5C;\n",
              "      --hover-fill-color: #FFFFFF;\n",
              "      --disabled-bg-color: #3B4455;\n",
              "      --disabled-fill-color: #666;\n",
              "  }\n",
              "\n",
              "  .colab-df-quickchart {\n",
              "    background-color: var(--bg-color);\n",
              "    border: none;\n",
              "    border-radius: 50%;\n",
              "    cursor: pointer;\n",
              "    display: none;\n",
              "    fill: var(--fill-color);\n",
              "    height: 32px;\n",
              "    padding: 0;\n",
              "    width: 32px;\n",
              "  }\n",
              "\n",
              "  .colab-df-quickchart:hover {\n",
              "    background-color: var(--hover-bg-color);\n",
              "    box-shadow: 0 1px 2px rgba(60, 64, 67, 0.3), 0 1px 3px 1px rgba(60, 64, 67, 0.15);\n",
              "    fill: var(--button-hover-fill-color);\n",
              "  }\n",
              "\n",
              "  .colab-df-quickchart-complete:disabled,\n",
              "  .colab-df-quickchart-complete:disabled:hover {\n",
              "    background-color: var(--disabled-bg-color);\n",
              "    fill: var(--disabled-fill-color);\n",
              "    box-shadow: none;\n",
              "  }\n",
              "\n",
              "  .colab-df-spinner {\n",
              "    border: 2px solid var(--fill-color);\n",
              "    border-color: transparent;\n",
              "    border-bottom-color: var(--fill-color);\n",
              "    animation:\n",
              "      spin 1s steps(1) infinite;\n",
              "  }\n",
              "\n",
              "  @keyframes spin {\n",
              "    0% {\n",
              "      border-color: transparent;\n",
              "      border-bottom-color: var(--fill-color);\n",
              "      border-left-color: var(--fill-color);\n",
              "    }\n",
              "    20% {\n",
              "      border-color: transparent;\n",
              "      border-left-color: var(--fill-color);\n",
              "      border-top-color: var(--fill-color);\n",
              "    }\n",
              "    30% {\n",
              "      border-color: transparent;\n",
              "      border-left-color: var(--fill-color);\n",
              "      border-top-color: var(--fill-color);\n",
              "      border-right-color: var(--fill-color);\n",
              "    }\n",
              "    40% {\n",
              "      border-color: transparent;\n",
              "      border-right-color: var(--fill-color);\n",
              "      border-top-color: var(--fill-color);\n",
              "    }\n",
              "    60% {\n",
              "      border-color: transparent;\n",
              "      border-right-color: var(--fill-color);\n",
              "    }\n",
              "    80% {\n",
              "      border-color: transparent;\n",
              "      border-right-color: var(--fill-color);\n",
              "      border-bottom-color: var(--fill-color);\n",
              "    }\n",
              "    90% {\n",
              "      border-color: transparent;\n",
              "      border-bottom-color: var(--fill-color);\n",
              "    }\n",
              "  }\n",
              "</style>\n",
              "\n",
              "  <script>\n",
              "    async function quickchart(key) {\n",
              "      const quickchartButtonEl =\n",
              "        document.querySelector('#' + key + ' button');\n",
              "      quickchartButtonEl.disabled = true;  // To prevent multiple clicks.\n",
              "      quickchartButtonEl.classList.add('colab-df-spinner');\n",
              "      try {\n",
              "        const charts = await google.colab.kernel.invokeFunction(\n",
              "            'suggestCharts', [key], {});\n",
              "      } catch (error) {\n",
              "        console.error('Error during call to suggestCharts:', error);\n",
              "      }\n",
              "      quickchartButtonEl.classList.remove('colab-df-spinner');\n",
              "      quickchartButtonEl.classList.add('colab-df-quickchart-complete');\n",
              "    }\n",
              "    (() => {\n",
              "      let quickchartButtonEl =\n",
              "        document.querySelector('#df-d0030044-f077-464c-97a0-5f844712dbfc button');\n",
              "      quickchartButtonEl.style.display =\n",
              "        google.colab.kernel.accessAllowed ? 'block' : 'none';\n",
              "    })();\n",
              "  </script>\n",
              "</div>\n",
              "\n",
              "    </div>\n",
              "  </div>\n"
            ],
            "application/vnd.google.colaboratory.intrinsic+json": {
              "type": "dataframe",
              "variable_name": "df"
            }
          },
          "metadata": {},
          "execution_count": 4
        }
      ]
    },
    {
      "cell_type": "markdown",
      "source": [
        "# Seleção de Atributos (Feature Selection)\n"
      ],
      "metadata": {
        "id": "D5lGd5EVTthX"
      }
    },
    {
      "cell_type": "code",
      "source": [
        "#SelectKBest\n",
        "import pandas as pd\n",
        "from sklearn.feature_selection import SelectKBest, f_classif\n",
        "\n",
        "df = pd.read_csv('/content/creditcard - menor balanceado.csv')\n",
        "\n",
        "\n",
        "k = 10\n",
        "selector = SelectKBest(score_func=f_classif, k=k)\n",
        "X_new = selector.fit_transform(X, y)\n",
        "\n",
        "\n",
        "selected_features = selector.get_support(indices=True)\n",
        "print(X.columns[selected_features])"
      ],
      "metadata": {
        "colab": {
          "base_uri": "https://localhost:8080/"
        },
        "id": "Y0z1hxYPKGPW",
        "outputId": "f3320be4-f388-4628-9549-3c078e31e68f"
      },
      "execution_count": null,
      "outputs": [
        {
          "output_type": "stream",
          "name": "stdout",
          "text": [
            "Index(['V3', 'V4', 'V7', 'V9', 'V10', 'V11', 'V12', 'V14', 'V16', 'V17'], dtype='object')\n"
          ]
        }
      ]
    },
    {
      "cell_type": "code",
      "source": [
        "#Recursive Feature Elimination\n",
        "from sklearn.feature_selection import RFE\n",
        "from sklearn.ensemble import RandomForestClassifier\n",
        "\n",
        "model = RandomForestClassifier(random_state=42)\n",
        "selector = RFE(model, n_features_to_select=10)\n",
        "selector = selector.fit(X, y)\n",
        "\n",
        "\n",
        "selected_features = X.columns[selector.support_]\n",
        "print(selected_features)"
      ],
      "metadata": {
        "colab": {
          "base_uri": "https://localhost:8080/"
        },
        "id": "OCifuF2tMW3k",
        "outputId": "4c56556d-4cb3-4027-f29f-c832d42cd3bb"
      },
      "execution_count": null,
      "outputs": [
        {
          "output_type": "stream",
          "name": "stdout",
          "text": [
            "Selected features with RFE: Index(['V3', 'V4', 'V7', 'V10', 'V11', 'V12', 'V14', 'V16', 'V17', 'V19'], dtype='object')\n"
          ]
        }
      ]
    },
    {
      "cell_type": "code",
      "source": [
        "#Random Forest\n",
        "model = RandomForestClassifier(random_state=42)\n",
        "model.fit(X, y)\n",
        "\n",
        "\n",
        "feature_importances = pd.Series(model.feature_importances_, index=X.columns)\n",
        "top_features = feature_importances.nlargest(10)\n",
        "\n",
        "print(top_features.index)"
      ],
      "metadata": {
        "colab": {
          "base_uri": "https://localhost:8080/"
        },
        "id": "8T-gIxnKRWOc",
        "outputId": "31d927bb-5246-47e8-fe59-d769d650b200"
      },
      "execution_count": null,
      "outputs": [
        {
          "output_type": "stream",
          "name": "stdout",
          "text": [
            "Top features based on importance: Index(['V14', 'V10', 'V12', 'V17', 'V4', 'V3', 'V16', 'V11', 'V2', 'V9'], dtype='object')\n"
          ]
        }
      ]
    },
    {
      "cell_type": "markdown",
      "source": [
        "#Técnicas de Balanceamento (Sampling)"
      ],
      "metadata": {
        "id": "PL4oAMx_UdGp"
      }
    },
    {
      "cell_type": "code",
      "source": [
        "#Oversampling com SMOTE\n",
        "from imblearn.over_sampling import SMOTE\n",
        "from sklearn.model_selection import train_test_split\n",
        "from sklearn.ensemble import RandomForestClassifier\n",
        "from sklearn.metrics import classification_report, confusion_matrix\n",
        "\n",
        "df = pd.read_csv('/content/creditcard - menor balanceado.csv')\n",
        "\n",
        "\n",
        "X_train, X_test, y_train, y_test = train_test_split(X, y, test_size=0.3, random_state=42)\n",
        "\n",
        "\n",
        "smote = SMOTE(random_state=42)\n",
        "X_train_resampled, y_train_resampled = smote.fit_resample(X_train, y_train)\n",
        "\n",
        "\n",
        "model = RandomForestClassifier(random_state=42)\n",
        "model.fit(X_train_resampled, y_train_resampled)\n",
        "\n",
        "\n",
        "y_pred = model.predict(X_test)\n",
        "print(confusion_matrix(y_test, y_pred))\n",
        "print(classification_report(y_test, y_pred))\n"
      ],
      "metadata": {
        "colab": {
          "base_uri": "https://localhost:8080/"
        },
        "id": "N2Frwy1BSaOD",
        "outputId": "0ca0323c-1b41-40f1-9682-62c9f8c794cf"
      },
      "execution_count": null,
      "outputs": [
        {
          "output_type": "stream",
          "name": "stdout",
          "text": [
            "Resultados com SMOTE:\n",
            "[[370   7]\n",
            " [ 21 130]]\n",
            "              precision    recall  f1-score   support\n",
            "\n",
            "           0       0.95      0.98      0.96       377\n",
            "           1       0.95      0.86      0.90       151\n",
            "\n",
            "    accuracy                           0.95       528\n",
            "   macro avg       0.95      0.92      0.93       528\n",
            "weighted avg       0.95      0.95      0.95       528\n",
            "\n"
          ]
        }
      ]
    },
    {
      "cell_type": "code",
      "source": [
        "#Undersampling da Classe Majoritária\n",
        "from imblearn.under_sampling import RandomUnderSampler\n",
        "\n",
        "\n",
        "undersample = RandomUnderSampler(random_state=42)\n",
        "X_train_resampled, y_train_resampled = undersample.fit_resample(X_train, y_train)\n",
        "\n",
        "\n",
        "model = RandomForestClassifier(random_state=42)\n",
        "model.fit(X_train_resampled, y_train_resampled)\n",
        "\n",
        "\n",
        "y_pred = model.predict(X_test)\n",
        "print(confusion_matrix(y_test, y_pred))\n",
        "print(classification_report(y_test, y_pred))\n"
      ],
      "metadata": {
        "colab": {
          "base_uri": "https://localhost:8080/"
        },
        "id": "iKfpv_mFSee8",
        "outputId": "0c6449d1-681d-4992-b70a-564ddc43f6af"
      },
      "execution_count": null,
      "outputs": [
        {
          "output_type": "stream",
          "name": "stdout",
          "text": [
            "Resultados com Undersampling:\n",
            "[[372   5]\n",
            " [ 16 135]]\n",
            "              precision    recall  f1-score   support\n",
            "\n",
            "           0       0.96      0.99      0.97       377\n",
            "           1       0.96      0.89      0.93       151\n",
            "\n",
            "    accuracy                           0.96       528\n",
            "   macro avg       0.96      0.94      0.95       528\n",
            "weighted avg       0.96      0.96      0.96       528\n",
            "\n"
          ]
        }
      ]
    },
    {
      "cell_type": "markdown",
      "source": [
        "#Tuning de Hiperparâmetros"
      ],
      "metadata": {
        "id": "-PF_Kl1yUviI"
      }
    },
    {
      "cell_type": "code",
      "source": [
        "#Random Forest com GridSearchCV\n",
        "from sklearn.model_selection import GridSearchCV\n",
        "from sklearn.ensemble import RandomForestClassifier\n",
        "\n",
        "\n",
        "rf = RandomForestClassifier(random_state=42)\n",
        "\n",
        "\n",
        "param_grid_rf = {\n",
        "    'n_estimators': [100, 200, 300],\n",
        "    'max_depth': [10, 20, None],\n",
        "    'min_samples_split': [2, 5, 10]\n",
        "}\n",
        "\n",
        "\n",
        "grid_search_rf = GridSearchCV(estimator=rf, param_grid=param_grid_rf, cv=5, scoring='f1', n_jobs=-1)\n",
        "grid_search_rf.fit(X_train_resampled, y_train_resampled)\n",
        "\n",
        "\n",
        "best_rf = grid_search_rf.best_estimator_\n",
        "print(grid_search_rf.best_params_)\n"
      ],
      "metadata": {
        "id": "MhqIID2oU0Rr"
      },
      "execution_count": null,
      "outputs": []
    },
    {
      "cell_type": "code",
      "source": [
        "#SVM com RandomizedSearchCV\n",
        "from sklearn.model_selection import RandomizedSearchCV\n",
        "from sklearn.svm import SVC\n",
        "\n",
        "\n",
        "svm = SVC(random_state=42)\n",
        "\n",
        "\n",
        "param_dist_svm = {\n",
        "    'C': [0.1, 1, 10, 100],\n",
        "    'gamma': [1, 0.1, 0.01, 0.001],\n",
        "    'kernel': ['rbf', 'linear']\n",
        "}\n",
        "\n",
        "\n",
        "random_search_svm = RandomizedSearchCV(estimator=svm, param_distributions=param_dist_svm, cv=5, scoring='f1', n_iter=10, random_state=42, n_jobs=-1)\n",
        "random_search_svm.fit(X_train_resampled, y_train_resampled)\n",
        "\n",
        "best_svm = random_search_svm.best_estimator_\n",
        "print(random_search_svm.best_params_)"
      ],
      "metadata": {
        "id": "_fn-oxfiVyM6",
        "colab": {
          "base_uri": "https://localhost:8080/"
        },
        "outputId": "ac8e4493-f2e3-459f-87ab-b6158241229e"
      },
      "execution_count": null,
      "outputs": [
        {
          "output_type": "stream",
          "name": "stdout",
          "text": [
            "{'kernel': 'linear', 'gamma': 1, 'C': 10}\n"
          ]
        }
      ]
    },
    {
      "cell_type": "code",
      "source": [
        "#XGBoost com GridSearchCV\n",
        "from xgboost import XGBClassifier\n",
        "\n",
        "xgb = XGBClassifier(random_state=42, use_label_encoder=False, eval_metric='logloss')\n",
        "\n",
        "\n",
        "param_grid_xgb = {\n",
        "    'n_estimators': [100, 200, 300],\n",
        "    'max_depth': [3, 6, 10],\n",
        "    'learning_rate': [0.01, 0.1, 0.2],\n",
        "    'subsample': [0.7, 0.8, 1.0],\n",
        "    'scale_pos_weight': [1, 5, 10]\n",
        "}\n",
        "\n",
        "\n",
        "grid_search_xgb = GridSearchCV(estimator=xgb, param_grid=param_grid_xgb, cv=5, scoring='f1', n_jobs=-1)\n",
        "grid_search_xgb.fit(X_train_resampled, y_train_resampled)\n",
        "\n",
        "\n",
        "best_xgb = grid_search_xgb.best_estimator_\n",
        "print(grid_search_xgb.best_params_)"
      ],
      "metadata": {
        "id": "32wjWAuoV6bY"
      },
      "execution_count": null,
      "outputs": []
    },
    {
      "cell_type": "code",
      "source": [
        " #Modelos Otimizados\n",
        " from sklearn.metrics import classification_report, confusion_matrix\n",
        "\n",
        "\n",
        "y_pred_rf = best_rf.predict(X_test)\n",
        "print(confusion_matrix(y_test, y_pred_rf))\n",
        "print(classification_report(y_test, y_pred_rf))\n",
        "\n",
        "\n"
      ],
      "metadata": {
        "id": "l7qU1VqPV_0g",
        "colab": {
          "base_uri": "https://localhost:8080/"
        },
        "outputId": "42ffdad9-d12e-431f-ee93-f9a71334891f"
      },
      "execution_count": null,
      "outputs": [
        {
          "output_type": "stream",
          "name": "stdout",
          "text": [
            "[[371   6]\n",
            " [ 15 136]]\n",
            "              precision    recall  f1-score   support\n",
            "\n",
            "           0       0.96      0.98      0.97       377\n",
            "           1       0.96      0.90      0.93       151\n",
            "\n",
            "    accuracy                           0.96       528\n",
            "   macro avg       0.96      0.94      0.95       528\n",
            "weighted avg       0.96      0.96      0.96       528\n",
            "\n"
          ]
        }
      ]
    },
    {
      "cell_type": "markdown",
      "source": [
        "#Ensemble de Modelos"
      ],
      "metadata": {
        "id": "caRSRaM4ZXDX"
      }
    },
    {
      "cell_type": "code",
      "source": [
        "from sklearn.ensemble import VotingClassifier\n",
        "from sklearn.tree import DecisionTreeClassifier\n",
        "from sklearn.svm import SVC\n",
        "from sklearn.neighbors import KNeighborsClassifier\n",
        "from sklearn.metrics import classification_report, confusion_matrix\n",
        "\n",
        "dt = DecisionTreeClassifier(random_state=42)\n",
        "svm = SVC(probability=True, random_state=42)\n",
        "knn = KNeighborsClassifier()\n",
        "\n",
        "\n",
        "voting_clf_hard = VotingClassifier(estimators=[('dt', dt), ('svm', svm), ('knn', knn)], voting='hard')\n",
        "voting_clf_soft = VotingClassifier(estimators=[('dt', dt), ('svm', svm), ('knn', knn)], voting='soft')\n",
        "\n",
        "\n",
        "voting_clf_hard.fit(X_train_resampled, y_train_resampled)\n",
        "y_pred_hard = voting_clf_hard.predict(X_test)\n",
        "print(\"Resultados do Voting Classifier (hard):\")\n",
        "print(confusion_matrix(y_test, y_pred_hard))\n",
        "print(classification_report(y_test, y_pred_hard))\n",
        "\n",
        "\n",
        "voting_clf_soft.fit(X_train_resampled, y_train_resampled)\n",
        "y_pred_soft = voting_clf_soft.predict(X_test)\n",
        "print(\"Resultados do Voting Classifier (soft):\")\n",
        "print(confusion_matrix(y_test, y_pred_soft))\n",
        "print(classification_report(y_test, y_pred_soft))\n"
      ],
      "metadata": {
        "colab": {
          "base_uri": "https://localhost:8080/"
        },
        "id": "_bYnO2njZbc5",
        "outputId": "38a1a2ee-690f-4f04-e536-95989b9e32d8"
      },
      "execution_count": null,
      "outputs": [
        {
          "output_type": "stream",
          "name": "stdout",
          "text": [
            "Resultados do Voting Classifier (hard):\n",
            "[[275 102]\n",
            " [ 44 107]]\n",
            "              precision    recall  f1-score   support\n",
            "\n",
            "           0       0.86      0.73      0.79       377\n",
            "           1       0.51      0.71      0.59       151\n",
            "\n",
            "    accuracy                           0.72       528\n",
            "   macro avg       0.69      0.72      0.69       528\n",
            "weighted avg       0.76      0.72      0.73       528\n",
            "\n",
            "Resultados do Voting Classifier (soft):\n",
            "[[328  49]\n",
            " [ 26 125]]\n",
            "              precision    recall  f1-score   support\n",
            "\n",
            "           0       0.93      0.87      0.90       377\n",
            "           1       0.72      0.83      0.77       151\n",
            "\n",
            "    accuracy                           0.86       528\n",
            "   macro avg       0.82      0.85      0.83       528\n",
            "weighted avg       0.87      0.86      0.86       528\n",
            "\n"
          ]
        }
      ]
    },
    {
      "cell_type": "code",
      "source": [
        "from sklearn.ensemble import RandomForestClassifier, GradientBoostingClassifier\n",
        "\n",
        "\n",
        "rf = RandomForestClassifier(random_state=42)\n",
        "gb = GradientBoostingClassifier(random_state=42)\n",
        "\n",
        "\n",
        "voting_clf_ensemble = VotingClassifier(estimators=[('rf', rf), ('gb', gb)], voting='soft')\n",
        "voting_clf_ensemble.fit(X_train_resampled, y_train_resampled)\n",
        "\n",
        "\n",
        "y_pred_ensemble = voting_clf_ensemble.predict(X_test)\n",
        "print(\"Resultados do Voting Classifier (Random Forest + Gradient Boosting):\")\n",
        "print(confusion_matrix(y_test, y_pred_ensemble))\n",
        "print(classification_report(y_test, y_pred_ensemble))"
      ],
      "metadata": {
        "colab": {
          "base_uri": "https://localhost:8080/"
        },
        "id": "AQZW3oI_Zdpq",
        "outputId": "4cff74f8-9720-4176-d3ee-4d94d7596268"
      },
      "execution_count": null,
      "outputs": [
        {
          "output_type": "stream",
          "name": "stdout",
          "text": [
            "Resultados do Voting Classifier (Random Forest + Gradient Boosting):\n",
            "[[366  11]\n",
            " [ 13 138]]\n",
            "              precision    recall  f1-score   support\n",
            "\n",
            "           0       0.97      0.97      0.97       377\n",
            "           1       0.93      0.91      0.92       151\n",
            "\n",
            "    accuracy                           0.95       528\n",
            "   macro avg       0.95      0.94      0.94       528\n",
            "weighted avg       0.95      0.95      0.95       528\n",
            "\n"
          ]
        }
      ]
    },
    {
      "cell_type": "markdown",
      "source": [
        "#Avaliação das Métricas"
      ],
      "metadata": {
        "id": "JOb_Emik0g9R"
      }
    },
    {
      "cell_type": "code",
      "source": [
        "from sklearn.metrics import accuracy_score, f1_score, confusion_matrix, classification_report\n",
        "\n",
        "\n",
        "y_pred_final = voting_clf_ensemble.predict(X_test)\n",
        "\n",
        "accuracy = accuracy_score(y_test, y_pred_final)\n",
        "print(\"Acurácia:\", accuracy)\n",
        "\n",
        "f1_macro = f1_score(y_test, y_pred_final, average='macro')\n",
        "print(\"F1-Score Macro:\", f1_macro)\n",
        "\n",
        "conf_matrix = confusion_matrix(y_test, y_pred_final)\n",
        "print(\"Matriz de Confusão:\\n\", conf_matrix)\n",
        "\n",
        "\n",
        "print(\"Relatório de Classificação:\\n\", classification_report(y_test, y_pred_final))\n"
      ],
      "metadata": {
        "id": "BBzN7xbW0gyk"
      },
      "execution_count": null,
      "outputs": []
    }
  ],
  "metadata": {
    "colab": {
      "provenance": [],
      "toc_visible": true,
      "include_colab_link": true
    },
    "kernelspec": {
      "display_name": "Python 3",
      "name": "python3"
    }
  },
  "nbformat": 4,
  "nbformat_minor": 0
}